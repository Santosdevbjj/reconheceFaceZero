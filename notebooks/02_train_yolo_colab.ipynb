{
 "cells": [
  {
   "cell_type": "markdown",
   "metadata": {},
   "source": [
    "# Notebook 02 - Treinamento YOLOv8\n",
    "Treina modelo YOLOv8 para detecção de faces."
   ]
  },
  {
   "cell_type": "code",
   "source": [
    "!pip install ultralytics"
   ],
   "metadata": {},
   "execution_count": null,
   "outputs": []
  },
  {
   "cell_type": "code",
   "source": [
    "from ultralytics import YOLO\n",
    "\n",
    "model = YOLO('yolov8n.pt')  # modelo pré-treinado base\n",
    "model.train(\n",
    "    data='/content/drive/MyDrive/reconheceFaceZero/config/data.yaml',\n",
    "    epochs=50,\n",
    "    imgsz=640\n",
    ")\n",
    "model.save('/content/drive/MyDrive/reconheceFaceZero/models/yolo/best.pt')"
   ],
   "metadata": {},
   "execution_count": null,
   "outputs": []
  }
 ],
 "metadata": {
  "colab": {
   "name": "02_train_yolo_colab.ipynb"
  },
  "kernelspec": {
   "display_name": "Python 3",
   "name": "python3"
  }
 },
 "nbformat": 4,
 "nbformat_minor": 0
}
