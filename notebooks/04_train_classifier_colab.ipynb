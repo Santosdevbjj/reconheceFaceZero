{
 "cells": [
  {
   "cell_type": "markdown",
   "source": [
    "# Notebook 04 - Treinamento do Classificador\n",
    "Treina um classificador SVM usando os embeddings de faces extraídos."
   ],
   "metadata": {}
  },
  {
   "cell_type": "code",
   "source": [
    "import joblib\n",
    "from sklearn.svm import SVC\n",
    "\n",
    "X, y = joblib.load('/content/drive/MyDrive/reconheceFaceZero/models/embeddings.pkl')\n",
    "clf = SVC(kernel='linear', probability=True)\n",
    "clf.fit(X, y)\n",
    "joblib.dump(clf, '/content/drive/MyDrive/reconheceFaceZero/models/classifier/svm.pkl')\n",
    "print('Classificador treinado e salvo.')"
   ],
   "metadata": {},
   "execution_count": null,
   "outputs": []
  }
 ],
 "metadata": {
  "colab": {
   "name": "04_train_classifier_colab.ipynb"
  },
  "kernelspec": {
   "display_name": "Python 3",
   "name": "python3"
  }
 },
 "nbformat": 4,
 "nbformat_minor": 0
}
