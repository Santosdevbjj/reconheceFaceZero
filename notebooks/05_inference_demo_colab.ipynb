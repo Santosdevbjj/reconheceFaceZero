{
 "cells": [
  {
   "cell_type": "markdown",
   "source": [
    "# Notebook 05 - Inferência em Imagens e Vídeos\n",
    "Executa a pipeline YOLO + Classificador em imagens/vídeos."
   ],
   "metadata": {}
  },
  {
   "cell_type": "code",
   "source": [
    "import cv2, joblib, face_recognition\n",
    "from ultralytics import YOLO\n",
    "\n",
    "yolo = YOLO('/content/drive/MyDrive/reconheceFaceZero/models/yolo/best.pt')\n",
    "clf = joblib.load('/content/drive/MyDrive/reconheceFaceZero/models/classifier/svm.pkl')\n",
    "\n",
    "img = cv2.imread('/content/drive/MyDrive/reconheceFaceZero/tests/sample.jpg')\n",
    "results = yolo(img)\n",
    "\n",
    "for r in results:\n",
    "    for box in r.boxes:\n",
    "        x1,y1,x2,y2 = map(int, box.xyxy[0])\n",
    "        face = img[y1:y2, x1:x2]\n",
    "        rgb = cv2.cvtColor(face, cv2.COLOR_BGR2RGB)\n",
    "        encs = face_recognition.face_encodings(rgb)\n",
    "        if encs:\n",
    "            pred = clf.predict([encs[0]])[0]\n",
    "            cv2.putText(img, pred, (x1,y1-10), cv2.FONT_HERSHEY_SIMPLEX, 0.9,(0,255,0),2)\n",
    "            cv2.rectangle(img,(x1,y1),(x2,y2),(0,255,0),2)\n",
    "\n",
    "cv2.imwrite('/content/drive/MyDrive/reconheceFaceZero/tests/output.jpg', img)\n",
    "print('Inferência concluída e imagem salva.')"
   ],
   "metadata": {},
   "execution_count": null,
   "outputs": []
  }
 ],
 "metadata": {
  "colab": {
   "name": "05_inference_demo_colab.ipynb"
  },
  "kernelspec": {
   "display_name": "Python 3",
   "name": "python3"
  }
 },
 "nbformat": 4,
 "nbformat_minor": 0
}
