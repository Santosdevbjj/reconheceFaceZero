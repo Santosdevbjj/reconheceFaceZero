{
 "cells": [
  {
   "cell_type": "markdown",
   "metadata": {},
   "source": [
    "# Notebook 01 - Preparação do Dataset\n",
    "Este notebook prepara a estrutura de diretórios no Google Drive e auxilia na organização/anotação do dataset de faces."
   ]
  },
  {
   "cell_type": "code",
   "execution_count": null,
   "metadata": {},
   "outputs": [],
   "source": [
    "# Montar o Google Drive\n",
    "from google.colab import drive\n",
    "drive.mount('/content/drive')"
   ]
  },
  {
   "cell_type": "code",
   "execution_count": null,
   "metadata": {},
   "outputs": [],
   "source": [
    "# Criar estrutura de pastas\n",
    "import os\n",
    "base_path = '/content/drive/MyDrive/reconheceFaceZero/data'\n",
    "folders = ['persons', 'yolo_annotations/images/train', 'yolo_annotations/images/val', 'yolo_annotations/labels/train', 'yolo_annotations/labels/val']\n",
    "for f in folders:\n",
    "    os.makedirs(os.path.join(base_path,f), exist_ok=True)\n",
    "print('Estrutura de pastas criada com sucesso.')"
   ]
  },
  {
   "cell_type": "markdown",
   "metadata": {},
   "source": [
    "## Upload Manual\n",
    "- Faça upload das imagens de cada pessoa em `/persons/NOME_PESSOA/`.\n",
    "- Use ferramentas como [LabelImg](https://github.com/heartexlabs/labelImg) para gerar anotações YOLO."
   ]
  }
 ],
 "metadata": {
  "colab": {
   "name": "01_prepare_data_colab.ipynb"
  },
  "kernelspec": {
   "display_name": "Python 3",
   "name": "python3"
  },
  "language_info": {
   "name": "python"
  }
 },
 "nbformat": 4,
 "nbformat_minor": 0
}
