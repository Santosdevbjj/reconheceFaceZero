{
 "cells": [
  {
   "cell_type": "markdown",
   "metadata": {},
   "source": [
    "# Notebook 03 - Extração de Embeddings\n",
    "Extrai embeddings das faces usando a biblioteca `face_recognition`."
   ]
  },
  {
   "cell_type": "code",
   "source": [
    "!pip install face_recognition dlib opencv-python-headless"
   ],
   "metadata": {},
   "execution_count": null,
   "outputs": []
  },
  {
   "cell_type": "code",
   "source": [
    "import os, numpy as np\n",
    "import face_recognition\n",
    "import joblib\n",
    "\n",
    "base_path = '/content/drive/MyDrive/reconheceFaceZero/data/persons'\n",
    "X, y = [], []\n",
    "\n",
    "for person in os.listdir(base_path):\n",
    "    person_dir = os.path.join(base_path, person)\n",
    "    for img_name in os.listdir(person_dir):\n",
    "        img_path = os.path.join(person_dir, img_name)\n",
    "        img = face_recognition.load_image_file(img_path)\n",
    "        encs = face_recognition.face_encodings(img)\n",
    "        if encs:\n",
    "            X.append(encs[0])\n",
    "            y.append(person)\n",
    "\n",
    "X, y = np.array(X), np.array(y)\n",
    "joblib.dump((X, y), '/content/drive/MyDrive/reconheceFaceZero/models/embeddings.pkl')\n",
    "print('Embeddings extraídos e salvos.')"
   ],
   "metadata": {},
   "execution_count": null,
   "outputs": []
  }
 ],
 "metadata": {
  "colab": {
   "name": "03_extract_embeddings_colab.ipynb"
  },
  "kernelspec": {
   "display_name": "Python 3",
   "name": "python3"
  }
 },
 "nbformat": 4,
 "nbformat_minor": 0
}
